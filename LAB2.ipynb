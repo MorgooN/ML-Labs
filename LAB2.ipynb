{
  "nbformat": 4,
  "nbformat_minor": 0,
  "metadata": {
    "colab": {
      "provenance": [],
      "authorship_tag": "ABX9TyNm+yq8rZKFK1eiys8xnVQ5",
      "include_colab_link": true
    },
    "kernelspec": {
      "name": "python3",
      "display_name": "Python 3"
    },
    "language_info": {
      "name": "python"
    }
  },
  "cells": [
    {
      "cell_type": "markdown",
      "metadata": {
        "id": "view-in-github",
        "colab_type": "text"
      },
      "source": [
        "<a href=\"https://colab.research.google.com/github/MorgooN/ML-Labs/blob/main/LAB2.ipynb\" target=\"_parent\"><img src=\"https://colab.research.google.com/assets/colab-badge.svg\" alt=\"Open In Colab\"/></a>"
      ]
    },
    {
      "cell_type": "code",
      "execution_count": 3,
      "metadata": {
        "id": "XQiXP4hSn5Z4"
      },
      "outputs": [],
      "source": [
        "import tensorflow as tf\n",
        "import tensorflow_datasets as tfds\n",
        "import matplotlib.pyplot as plt\n",
        "import keras\n",
        "from keras.layers import Rescaling, Conv2D, MaxPooling2D, Flatten, Dense, GlobalAveragePooling2D\n",
        "from keras import Model, Input\n",
        "from keras.callbacks import ModelCheckpoint"
      ]
    },
    {
      "cell_type": "code",
      "source": [
        "batch_size = 32\n",
        "img_height = 224\n",
        "img_width = 224"
      ],
      "metadata": {
        "id": "uPugdI8JoBBF"
      },
      "execution_count": 2,
      "outputs": []
    },
    {
      "cell_type": "code",
      "source": [
        "!gdown --id 1qtwiBTaR5jE_vDEUW_HA4nXGLPTLCyBl # downloading saved dataset from google drive"
      ],
      "metadata": {
        "colab": {
          "base_uri": "https://localhost:8080/"
        },
        "id": "8Ndx65FhsL1n",
        "outputId": "362ed8f3-65f8-4b01-8bc3-0e57aff7497b"
      },
      "execution_count": 8,
      "outputs": [
        {
          "output_type": "stream",
          "name": "stdout",
          "text": [
            "/usr/local/lib/python3.10/dist-packages/gdown/cli.py:121: FutureWarning: Option `--id` was deprecated in version 4.3.1 and will be removed in 5.0. You don't need to pass it anymore to use a file ID.\n",
            "  warnings.warn(\n",
            "Downloading...\n",
            "From: https://drive.google.com/uc?id=1qtwiBTaR5jE_vDEUW_HA4nXGLPTLCyBl\n",
            "To: /content/Dataset.zip\n",
            "100% 849M/849M [00:16<00:00, 51.2MB/s]\n"
          ]
        }
      ]
    },
    {
      "cell_type": "code",
      "source": [
        "!unzip Dataset.zip # unpack zip fils"
      ],
      "metadata": {
        "id": "wwYNzmBit6DI"
      },
      "execution_count": null,
      "outputs": []
    },
    {
      "cell_type": "code",
      "source": [
        "train_ds = keras.utils.image_dataset_from_directory(\n",
        "  directory= \"/content/Farm Harmful Animal Dataset/test\", # path to test data\n",
        "  label_mode = 'int',       # correct answers as numbers(Label Encoding): 0, 1, 2, 3 etc.\n",
        "  color_mode='rgb',         # each image as RGB\n",
        "  batch_size=batch_size,    # batch-size regulator\n",
        "  seed=123,\n",
        "  image_size=(img_height, img_width),\n",
        "  shuffle=True)"
      ],
      "metadata": {
        "colab": {
          "base_uri": "https://localhost:8080/"
        },
        "id": "nY7XtflwuNLO",
        "outputId": "060ebb96-b5b8-41b7-df78-ab84232e586b"
      },
      "execution_count": 11,
      "outputs": [
        {
          "output_type": "stream",
          "name": "stdout",
          "text": [
            "Found 899 files belonging to 15 classes.\n"
          ]
        }
      ]
    },
    {
      "cell_type": "code",
      "source": [
        "val_ds = keras.utils.image_dataset_from_directory(\n",
        "  directory= \"/content/Farm Harmful Animal Dataset/validation\",  # path to val. data\n",
        "  label_mode = 'int',\n",
        "  color_mode='rgb',\n",
        "  batch_size=batch_size,\n",
        "  seed=123,\n",
        "  image_size=(img_height, img_width),\n",
        "  shuffle=False) # disable shuffle for a val. data"
      ],
      "metadata": {
        "colab": {
          "base_uri": "https://localhost:8080/"
        },
        "id": "zrleL5RyvagD",
        "outputId": "85d99543-2891-4763-dac7-a09836f5c94f"
      },
      "execution_count": 12,
      "outputs": [
        {
          "output_type": "stream",
          "name": "stdout",
          "text": [
            "Found 923 files belonging to 15 classes.\n"
          ]
        }
      ]
    },
    {
      "cell_type": "code",
      "source": [
        "test_ds = keras.utils.image_dataset_from_directory(\n",
        "  directory= \"/content/Farm Harmful Animal Dataset/test\",  # path to test. data\n",
        "  label_mode = 'int',\n",
        "  color_mode='rgb',\n",
        "  batch_size=batch_size,\n",
        "  seed=123,\n",
        "  image_size=(img_height, img_width),\n",
        "  shuffle=False) # also disable shuffle for a test. data"
      ],
      "metadata": {
        "colab": {
          "base_uri": "https://localhost:8080/"
        },
        "id": "gYXNtQHqvyMR",
        "outputId": "aa28ca78-8ddf-4e39-b554-37574cd5397b"
      },
      "execution_count": 13,
      "outputs": [
        {
          "output_type": "stream",
          "name": "stdout",
          "text": [
            "Found 899 files belonging to 15 classes.\n"
          ]
        }
      ]
    }
  ]
}